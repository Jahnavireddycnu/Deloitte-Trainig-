{
 "cells": [
  {
   "cell_type": "code",
   "execution_count": 1,
   "metadata": {},
   "outputs": [],
   "source": [
    "import re"
   ]
  },
  {
   "cell_type": "code",
   "execution_count": 4,
   "metadata": {},
   "outputs": [],
   "source": [
    "p = '^h..h$'"
   ]
  },
  {
   "cell_type": "code",
   "execution_count": 6,
   "metadata": {},
   "outputs": [
    {
     "name": "stdout",
     "output_type": "stream",
     "text": [
      "its a match\n"
     ]
    }
   ],
   "source": [
    "stra = 'hiih'\n",
    "\n",
    "res = re.match(p,stra)\n",
    "\n",
    "if res:\n",
    "    print('its a match')\n",
    "else:\n",
    "    print('its not a match')"
   ]
  },
  {
   "cell_type": "code",
   "execution_count": 9,
   "metadata": {},
   "outputs": [
    {
     "name": "stdout",
     "output_type": "stream",
     "text": [
      "gdsg gang hajd kjas\n",
      "2\n",
      "['gdsg', 'gang']\n"
     ]
    }
   ],
   "source": [
    "strb = input()\n",
    "p = 'g..g'\n",
    "\n",
    "res = re.findall(p, strb)\n",
    "\n",
    "if res:\n",
    "    print(len(res))\n",
    "    print(res)"
   ]
  },
  {
   "cell_type": "code",
   "execution_count": 10,
   "metadata": {},
   "outputs": [],
   "source": [
    "fa = open('n.txt', 'r')"
   ]
  },
  {
   "cell_type": "code",
   "execution_count": 11,
   "metadata": {},
   "outputs": [],
   "source": [
    "stra = fa.read()"
   ]
  },
  {
   "cell_type": "code",
   "execution_count": 12,
   "metadata": {},
   "outputs": [
    {
     "data": {
      "text/plain": [
       "'fool : 12\\nfat : 13\\nskinny : 32\\nmilk : 23'"
      ]
     },
     "execution_count": 12,
     "metadata": {},
     "output_type": "execute_result"
    }
   ],
   "source": [
    "stra"
   ]
  },
  {
   "cell_type": "code",
   "execution_count": 13,
   "metadata": {},
   "outputs": [],
   "source": [
    "p ='\\d+'\n",
    "res = re.findall(p,stra)"
   ]
  },
  {
   "cell_type": "code",
   "execution_count": 14,
   "metadata": {},
   "outputs": [
    {
     "name": "stdout",
     "output_type": "stream",
     "text": [
      "['12', '13', '32', '23']\n"
     ]
    }
   ],
   "source": [
    "print(res)"
   ]
  },
  {
   "cell_type": "code",
   "execution_count": 15,
   "metadata": {},
   "outputs": [
    {
     "name": "stdout",
     "output_type": "stream",
     "text": [
      "['fool : ', '\\nfat : ', '\\nskinny : ', '\\nmilk : ', '']\n"
     ]
    }
   ],
   "source": [
    "fa.close()\n",
    "fa = open('n.txt', 'r')\n",
    "stra = fa.read()\n",
    "\n",
    "pat = '\\d+'\n",
    "res = re.split(pat, stra)\n",
    "print(res)"
   ]
  },
  {
   "cell_type": "code",
   "execution_count": 16,
   "metadata": {},
   "outputs": [
    {
     "name": "stdout",
     "output_type": "stream",
     "text": [
      "['fool : ', '\\nfat : ', '\\nskinny : 32\\nmilk : 23']\n"
     ]
    }
   ],
   "source": [
    "fa.close()\n",
    "fa = open('n.txt', 'r')\n",
    "stra = fa.read()\n",
    "\n",
    "pat = '\\d+'\n",
    "res = re.split(pat, stra, maxsplit=2)\n",
    "print(res)"
   ]
  },
  {
   "cell_type": "code",
   "execution_count": 17,
   "metadata": {},
   "outputs": [
    {
     "name": "stdout",
     "output_type": "stream",
     "text": [
      "('fool_:_12_fat_:_13_skinny_:_32_milk_:_23', 11)\n"
     ]
    }
   ],
   "source": [
    "fa.close()\n",
    "fa = open('n.txt', 'r')\n",
    "stra = fa.read()\n",
    "\n",
    "pat = '\\s+'\n",
    "res = re.subn(pat, string=stra, repl='_')\n",
    "print(res)"
   ]
  },
  {
   "cell_type": "code",
   "execution_count": 18,
   "metadata": {},
   "outputs": [
    {
     "data": {
      "text/plain": [
       "tuple"
      ]
     },
     "execution_count": 18,
     "metadata": {},
     "output_type": "execute_result"
    }
   ],
   "source": [
    "type(res)"
   ]
  },
  {
   "cell_type": "code",
   "execution_count": null,
   "metadata": {},
   "outputs": [],
   "source": []
  }
 ],
 "metadata": {
  "kernelspec": {
   "display_name": "Python 3",
   "language": "python",
   "name": "python3"
  },
  "language_info": {
   "codemirror_mode": {
    "name": "ipython",
    "version": 3
   },
   "file_extension": ".py",
   "mimetype": "text/x-python",
   "name": "python",
   "nbconvert_exporter": "python",
   "pygments_lexer": "ipython3",
   "version": "3.7.4"
  }
 },
 "nbformat": 4,
 "nbformat_minor": 2
}
