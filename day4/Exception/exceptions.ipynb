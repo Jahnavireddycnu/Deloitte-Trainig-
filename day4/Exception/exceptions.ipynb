{
 "cells": [
  {
   "cell_type": "code",
   "execution_count": 1,
   "metadata": {},
   "outputs": [],
   "source": [
    "vara=43\n",
    "varb=0"
   ]
  },
  {
   "cell_type": "code",
   "execution_count": 2,
   "metadata": {},
   "outputs": [
    {
     "ename": "NameError",
     "evalue": "name 'varc' is not defined",
     "output_type": "error",
     "traceback": [
      "\u001b[1;31m---------------------------------------------------------------------------\u001b[0m",
      "\u001b[1;31mNameError\u001b[0m                                 Traceback (most recent call last)",
      "\u001b[1;32m<ipython-input-2-fd32f6e9d5b4>\u001b[0m in \u001b[0;36m<module>\u001b[1;34m\u001b[0m\n\u001b[1;32m----> 1\u001b[1;33m \u001b[0mvarc\u001b[0m \u001b[1;33m=\u001b[0m \u001b[0mvara\u001b[0m\u001b[1;33m/\u001b[0m\u001b[0mvarc\u001b[0m\u001b[1;33m\u001b[0m\u001b[1;33m\u001b[0m\u001b[0m\n\u001b[0m",
      "\u001b[1;31mNameError\u001b[0m: name 'varc' is not defined"
     ]
    }
   ],
   "source": [
    "varc = vara/varc"
   ]
  },
  {
   "cell_type": "code",
   "execution_count": 5,
   "metadata": {},
   "outputs": [
    {
     "name": "stdout",
     "output_type": "stream",
     "text": [
      "division by zero not possible\n"
     ]
    }
   ],
   "source": [
    "try:\n",
    "    varc= vara/varb\n",
    "    print(varc)\n",
    "except ZeroDivisionError:\n",
    "    print(\"division by zero not possible\")"
   ]
  },
  {
   "cell_type": "code",
   "execution_count": 6,
   "metadata": {},
   "outputs": [],
   "source": [
    "lista = []\n",
    "avg = 0"
   ]
  },
  {
   "cell_type": "code",
   "execution_count": 7,
   "metadata": {},
   "outputs": [
    {
     "name": "stdout",
     "output_type": "stream",
     "text": [
      "list is empty\n"
     ]
    }
   ],
   "source": [
    "try:\n",
    "    avg = sum(lista)/len(lista)\n",
    "    print(\"avg is \", avg)\n",
    "except ZeroDivisionError:\n",
    "    print(\"list is empty\")"
   ]
  },
  {
   "cell_type": "code",
   "execution_count": 9,
   "metadata": {},
   "outputs": [],
   "source": [
    "lista.append(23)"
   ]
  },
  {
   "cell_type": "code",
   "execution_count": 10,
   "metadata": {},
   "outputs": [
    {
     "name": "stdout",
     "output_type": "stream",
     "text": [
      "avg is  21.5\n"
     ]
    }
   ],
   "source": [
    "try:\n",
    "    avg = sum(lista)/len(lista)\n",
    "    print(\"avg is \", avg)\n",
    "except ZeroDivisionError:\n",
    "    print(\"list is empty\")"
   ]
  },
  {
   "cell_type": "code",
   "execution_count": 13,
   "metadata": {},
   "outputs": [
    {
     "name": "stdout",
     "output_type": "stream",
     "text": [
      "list is not defined, check the name\n"
     ]
    }
   ],
   "source": [
    "lista.clear()\n",
    "\n",
    "try:\n",
    "    avg = sum(listb)/len(lista)\n",
    "    print(\"avg is \", avg)\n",
    "except ZeroDivisionError:\n",
    "    print(\"list is empty\")\n",
    "except NameError:\n",
    "    print(\"list is not defined, check the name\")"
   ]
  },
  {
   "cell_type": "code",
   "execution_count": 14,
   "metadata": {},
   "outputs": [],
   "source": [
    "a=18/9/3"
   ]
  },
  {
   "cell_type": "code",
   "execution_count": 15,
   "metadata": {},
   "outputs": [
    {
     "data": {
      "text/plain": [
       "0.6666666666666666"
      ]
     },
     "execution_count": 15,
     "metadata": {},
     "output_type": "execute_result"
    }
   ],
   "source": [
    "a"
   ]
  },
  {
   "cell_type": "code",
   "execution_count": 18,
   "metadata": {},
   "outputs": [],
   "source": [
    "lista =[2,5,4,3]\n",
    "listb = [4,3,2]"
   ]
  },
  {
   "cell_type": "code",
   "execution_count": 20,
   "metadata": {},
   "outputs": [
    {
     "name": "stdout",
     "output_type": "stream",
     "text": [
      "enter index: 2\n",
      "avg is  2.25\n",
      "val = 4\n",
      "etc\n"
     ]
    }
   ],
   "source": [
    "try:\n",
    "    i = eval(input(\"enter index: \"))\n",
    "    avg = sum(listb)/len(lista)\n",
    "    print(\"avg is \", avg)\n",
    "    val = lista[i]\n",
    "    print(\"val =\", val)\n",
    "except ZeroDivisionError:\n",
    "    print(\"list is empty\")\n",
    "except NameError:\n",
    "    print(\"check your name please\")\n",
    "print('etc')"
   ]
  },
  {
   "cell_type": "code",
   "execution_count": 22,
   "metadata": {},
   "outputs": [
    {
     "name": "stdout",
     "output_type": "stream",
     "text": [
      "enter index: 9\n",
      "avg is  2.25\n"
     ]
    },
    {
     "ename": "IndexError",
     "evalue": "list index out of range",
     "output_type": "error",
     "traceback": [
      "\u001b[1;31m---------------------------------------------------------------------------\u001b[0m",
      "\u001b[1;31mTypeError\u001b[0m                                 Traceback (most recent call last)",
      "\u001b[1;32m<ipython-input-22-6e5f7326604b>\u001b[0m in \u001b[0;36m<module>\u001b[1;34m\u001b[0m\n\u001b[0;32m      4\u001b[0m     \u001b[0mprint\u001b[0m\u001b[1;33m(\u001b[0m\u001b[1;34m\"avg is \"\u001b[0m\u001b[1;33m,\u001b[0m \u001b[0mavg\u001b[0m\u001b[1;33m)\u001b[0m\u001b[1;33m\u001b[0m\u001b[1;33m\u001b[0m\u001b[0m\n\u001b[1;32m----> 5\u001b[1;33m     \u001b[0mval\u001b[0m \u001b[1;33m=\u001b[0m \u001b[0mlista\u001b[0m\u001b[1;33m[\u001b[0m\u001b[0mi\u001b[0m\u001b[1;33m]\u001b[0m\u001b[1;33m\u001b[0m\u001b[1;33m\u001b[0m\u001b[0m\n\u001b[0m\u001b[0;32m      6\u001b[0m     \u001b[0mprint\u001b[0m\u001b[1;33m(\u001b[0m\u001b[1;34m\"val =\"\u001b[0m\u001b[1;33m,\u001b[0m \u001b[0mval\u001b[0m\u001b[1;33m)\u001b[0m\u001b[1;33m\u001b[0m\u001b[1;33m\u001b[0m\u001b[0m\n",
      "\u001b[1;31mTypeError\u001b[0m: list indices must be integers or slices, not str",
      "\nDuring handling of the above exception, another exception occurred:\n",
      "\u001b[1;31mIndexError\u001b[0m                                Traceback (most recent call last)",
      "\u001b[1;32m<ipython-input-22-6e5f7326604b>\u001b[0m in \u001b[0;36m<module>\u001b[1;34m\u001b[0m\n\u001b[0;32m     10\u001b[0m     \u001b[0mprint\u001b[0m\u001b[1;33m(\u001b[0m\u001b[1;34m\"check your name please\"\u001b[0m\u001b[1;33m)\u001b[0m\u001b[1;33m\u001b[0m\u001b[1;33m\u001b[0m\u001b[0m\n\u001b[0;32m     11\u001b[0m \u001b[1;32mexcept\u001b[0m \u001b[0mTypeError\u001b[0m\u001b[1;33m:\u001b[0m\u001b[1;33m\u001b[0m\u001b[1;33m\u001b[0m\u001b[0m\n\u001b[1;32m---> 12\u001b[1;33m     \u001b[0mprint\u001b[0m\u001b[1;33m(\u001b[0m\u001b[0mlista\u001b[0m\u001b[1;33m[\u001b[0m\u001b[0mint\u001b[0m\u001b[1;33m(\u001b[0m\u001b[0mi\u001b[0m\u001b[1;33m)\u001b[0m\u001b[1;33m]\u001b[0m\u001b[1;33m)\u001b[0m\u001b[1;33m\u001b[0m\u001b[1;33m\u001b[0m\u001b[0m\n\u001b[0m\u001b[0;32m     13\u001b[0m \u001b[1;32mexcept\u001b[0m \u001b[0mIndexError\u001b[0m\u001b[1;33m:\u001b[0m\u001b[1;33m\u001b[0m\u001b[1;33m\u001b[0m\u001b[0m\n\u001b[0;32m     14\u001b[0m     \u001b[0mprint\u001b[0m\u001b[1;33m(\u001b[0m\u001b[1;34m\"out of index\"\u001b[0m\u001b[1;33m)\u001b[0m\u001b[1;33m\u001b[0m\u001b[1;33m\u001b[0m\u001b[0m\n",
      "\u001b[1;31mIndexError\u001b[0m: list index out of range"
     ]
    }
   ],
   "source": [
    "try:\n",
    "    i = input(\"enter index: \")\n",
    "    avg = sum(listb)/len(lista)\n",
    "    print(\"avg is \", avg)\n",
    "    val = lista[i]\n",
    "    print(\"val =\", val)\n",
    "except ZeroDivisionError:\n",
    "    print(\"list is empty\")\n",
    "except NameError:\n",
    "    print(\"check your name please\")\n",
    "except TypeError:\n",
    "    print(lista[int(i)])\n",
    "except IndexError:\n",
    "    print(\"out of index\")\n",
    "print('hi')"
   ]
  },
  {
   "cell_type": "code",
   "execution_count": 23,
   "metadata": {},
   "outputs": [
    {
     "name": "stdout",
     "output_type": "stream",
     "text": [
      "enter index: 2\n",
      "avg is  2.25\n",
      "something went wrong, don't know what\n",
      "ghost\n"
     ]
    }
   ],
   "source": [
    "try:\n",
    "    i = input(\"enter index: \")\n",
    "    avg = sum(listb)/len(lista)\n",
    "    print(\"avg is \", avg)\n",
    "    val = lista[i]\n",
    "    print(\"val =\", val)\n",
    "except ZeroDivisionError:\n",
    "    print(\"list is empty\")\n",
    "except NameError:\n",
    "    print(\"check your name please\")\n",
    "except:\n",
    "    print(\"something went wrong, don't know what\")\n",
    "print(\"ghost\")"
   ]
  },
  {
   "cell_type": "code",
   "execution_count": 24,
   "metadata": {},
   "outputs": [
    {
     "name": "stdout",
     "output_type": "stream",
     "text": [
      "enter index: 3\n",
      "avg is  2.25\n",
      "3\n",
      "ghost\n"
     ]
    }
   ],
   "source": [
    "try:\n",
    "    i = input(\"enter index: \")\n",
    "    avg = sum(listb)/len(lista)\n",
    "    print(\"avg is \", avg)\n",
    "    val = lista[i]\n",
    "    print(\"val =\", val)\n",
    "except ZeroDivisionError:\n",
    "    print(\"list is empty\")\n",
    "except NameError:\n",
    "    print(\"check your name please\")\n",
    "except TypeError:\n",
    "    print(lista[int(i)])\n",
    "except IndexError:\n",
    "    print(\"out of index\")\n",
    "print('ghost')"
   ]
  },
  {
   "cell_type": "code",
   "execution_count": 25,
   "metadata": {},
   "outputs": [
    {
     "ename": "SyntaxError",
     "evalue": "default 'except:' must be last (<ipython-input-25-dce036470066>, line 9)",
     "output_type": "error",
     "traceback": [
      "\u001b[1;36m  File \u001b[1;32m\"<ipython-input-25-dce036470066>\"\u001b[1;36m, line \u001b[1;32m9\u001b[0m\n\u001b[1;33m    except ZeroDivisionError:\u001b[0m\n\u001b[1;37m                             \n^\u001b[0m\n\u001b[1;31mSyntaxError\u001b[0m\u001b[1;31m:\u001b[0m default 'except:' must be last\n"
     ]
    }
   ],
   "source": [
    "try:\n",
    "    i = input(\"enter index: \")\n",
    "    avg = sum(listb)/len(lista)\n",
    "    print(\"avg is \", avg)\n",
    "    val = lista[i]\n",
    "    print(\"val =\", val)\n",
    "except:\n",
    "    print(\"something went wrong, don't know what\")\n",
    "except ZeroDivisionError:\n",
    "    print(\"list is empty\")\n",
    "except NameError:\n",
    "    print(\"check your name please\")\n",
    "print(\"ghost\")"
   ]
  },
  {
   "cell_type": "code",
   "execution_count": 26,
   "metadata": {},
   "outputs": [
    {
     "name": "stdout",
     "output_type": "stream",
     "text": [
      "enter index: 2\n",
      "avg is  2.25\n",
      "val = 4\n"
     ]
    }
   ],
   "source": [
    "try:\n",
    "    i = eval(input(\"enter index: \"))\n",
    "    avg = sum(listb)/len(lista)\n",
    "    print(\"avg is \", avg)\n",
    "    val = lista[i]\n",
    "    print(\"val =\", val)\n",
    "except ZeroDivisionError:\n",
    "    print(\"list is empty\")\n",
    "except NameError:\n",
    "    print(\"check your name please\")\n",
    "except:\n",
    "    print(\"something went wrong, don't know what\")"
   ]
  },
  {
   "cell_type": "code",
   "execution_count": 27,
   "metadata": {},
   "outputs": [
    {
     "name": "stdout",
     "output_type": "stream",
     "text": [
      "enter age: 12\n",
      "underage\n"
     ]
    }
   ],
   "source": [
    "try:\n",
    "    age = eval(input(\"enter age: \"))\n",
    "    if age < 18:\n",
    "        raise ValueError(\"age is too less\")\n",
    "    else :\n",
    "        print(\"good to go\")\n",
    "except ValueError :\n",
    "    print(\"underage\")"
   ]
  },
  {
   "cell_type": "code",
   "execution_count": 28,
   "metadata": {},
   "outputs": [
    {
     "name": "stdout",
     "output_type": "stream",
     "text": [
      "enter age: 34\n",
      "good to go\n"
     ]
    }
   ],
   "source": [
    "try:\n",
    "    age = eval(input(\"enter age: \"))\n",
    "    if age < 18:\n",
    "        raise ValueError(\"age is too less\")\n",
    "    else :\n",
    "        print(\"good to go\")\n",
    "except :\n",
    "    pass"
   ]
  },
  {
   "cell_type": "code",
   "execution_count": 29,
   "metadata": {},
   "outputs": [
    {
     "name": "stdout",
     "output_type": "stream",
     "text": [
      "enter age: 32\n",
      "outer name error\n"
     ]
    }
   ],
   "source": [
    "try:\n",
    "    try:\n",
    "        age = eval(input(\"enter age: \"))\n",
    "        if age < 18:\n",
    "            raise ValueError(\"age is too less\")\n",
    "        else :\n",
    "            print(\"your age =\", aje)\n",
    "    except ValueError:\n",
    "        print(\"inner value error\")\n",
    "except NameError:\n",
    "    print(\"outer name error\")"
   ]
  },
  {
   "cell_type": "code",
   "execution_count": null,
   "metadata": {},
   "outputs": [],
   "source": [
    "try:\n",
    "    "
   ]
  }
 ],
 "metadata": {
  "kernelspec": {
   "display_name": "Python 3",
   "language": "python",
   "name": "python3"
  },
  "language_info": {
   "codemirror_mode": {
    "name": "ipython",
    "version": 3
   },
   "file_extension": ".py",
   "mimetype": "text/x-python",
   "name": "python",
   "nbconvert_exporter": "python",
   "pygments_lexer": "ipython3",
   "version": "3.7.4"
  }
 },
 "nbformat": 4,
 "nbformat_minor": 2
}
